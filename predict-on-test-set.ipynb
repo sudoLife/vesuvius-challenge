{
 "cells": [
  {
   "cell_type": "code",
   "execution_count": null,
   "metadata": {},
   "outputs": [],
   "source": [
    "import pandas as pd\n",
    "import numpy as np\n",
    "from collections import defaultdict\n",
    "import segmentation_models as sm\n",
    "import gc\n",
    "from pipeline import Pipeline\n",
    "import matplotlib.pyplot as plt\n",
    "from tqdm import tqdm"
   ]
  },
  {
   "attachments": {},
   "cell_type": "markdown",
   "metadata": {},
   "source": [
    "## Load the test set, build the pipeline"
   ]
  },
  {
   "cell_type": "code",
   "execution_count": null,
   "metadata": {},
   "outputs": [],
   "source": [
    "data_params = {\n",
    "    \"data_dir\": \"./dataset/\",\n",
    "    \"patch_size\": 512,\n",
    "    \"downsampling\": 1.0,\n",
    "    # \"layers\": 40,\n",
    "    # \"z_start\": 0,\n",
    "    'layers': list(range(11, 24)) + list(range(27, 36)),\n",
    "    \"batch_size\": 4,\n",
    "    'train_transform': None,  # either None or this\n",
    "    'use_adapt_hist': False\n",
    "}\n",
    "\n",
    "backbone = 'resnet18'\n",
    "\n",
    "pipeline = Pipeline(**data_params)\n",
    "\n",
    "volume_a, mask_a, _ = pipeline.load_sample(split=\"test\", index='a')\n",
    "volume_a = sm.get_preprocessing(backbone)(volume_a)\n",
    "\n",
    "volume_b, mask_b, _ = pipeline.load_sample(split=\"test\", index='b')\n",
    "volume_b = sm.get_preprocessing(backbone)(volume_b)\n",
    "\n",
    "volume_3, mask_3, labels_3 = pipeline.load_sample(split=\"train\", index='3')\n",
    "volume_3 = sm.get_preprocessing(backbone)(volume_3)\n",
    "\n",
    "# volume_1, mask_1, labels_1 = pipeline.load_sample(split=\"train\", index='1')\n",
    "# volume_1 = sm.get_preprocessing(backbone)(volume_1)\n",
    "\n",
    "\n",
    "gc.collect()\n",
    "print(\"Loading complete.\")"
   ]
  },
  {
   "attachments": {},
   "cell_type": "markdown",
   "metadata": {},
   "source": [
    "## Load Model and Checkpoint"
   ]
  },
  {
   "cell_type": "code",
   "execution_count": null,
   "metadata": {},
   "outputs": [],
   "source": [
    "CHECKPOINT_PATH = 'logs/20230521-102231resnet18_adam_jaccard_noadapthist_transform_512_12-24_and_28-36_layers/'\n",
    "CHECKPOINT_NAME = 'checkpoint'\n",
    "\n",
    "model = sm.Unet(\n",
    "    'resnet18',\n",
    "    input_shape=pipeline.get_input_shape(),\n",
    "    encoder_weights=None,\n",
    "    classes=1\n",
    ")\n",
    "\n",
    "model.load_weights(f'{CHECKPOINT_PATH}/checkpoint')"
   ]
  },
  {
   "attachments": {},
   "cell_type": "markdown",
   "metadata": {},
   "source": [
    "## Predict and Assemble"
   ]
  },
  {
   "cell_type": "code",
   "execution_count": null,
   "metadata": {},
   "outputs": [],
   "source": [
    "from train_utils import predict_and_assemble\n",
    "\n",
    "threshold = 0.95\n",
    "all_pred_3, all_binary_pred_3, pred_3 = predict_and_assemble(pipeline, volume_3, mask_3, threshold, model)\n",
    "# all_pred, all_binary_pred, pred = predict_and_assemble(pipeline,volume_1, mask_1, threshold, model)\n",
    "all_pred_a, all_binary_pred_a, pred_a = predict_and_assemble(pipeline, volume_a, mask_a, threshold, model)\n",
    "all_pred_b, all_binary_pred_b, pred_b = predict_and_assemble(pipeline, volume_b, mask_b, threshold, model)"
   ]
  },
  {
   "attachments": {},
   "cell_type": "markdown",
   "metadata": {},
   "source": [
    "## Plot the result"
   ]
  },
  {
   "attachments": {},
   "cell_type": "markdown",
   "metadata": {},
   "source": [
    "#### Volume 3"
   ]
  },
  {
   "cell_type": "code",
   "execution_count": null,
   "metadata": {},
   "outputs": [],
   "source": [
    "threshold = 0.5\n",
    "fig, axs = plt.subplots(1, 3, figsize=(10, 3))\n",
    "axs[0].imshow(labels_3, cmap='gray')\n",
    "axs[0].set_title(\"Ground Truth\")\n",
    "axs[1].imshow(all_pred_3, cmap='gray')\n",
    "axs[1].set_title(\"Predictions\")\n",
    "axs[2].imshow(all_pred_3 > threshold, cmap='gray')\n",
    "axs[2].set_title(f'Binary Predictions')\n",
    "# plt.savefig(f'imgs/{CHECKPOINT_NAME}-threshold-{threshold}-volume-3-compare.svg')"
   ]
  },
  {
   "attachments": {},
   "cell_type": "markdown",
   "metadata": {},
   "source": [
    "#### Test a"
   ]
  },
  {
   "cell_type": "code",
   "execution_count": null,
   "metadata": {},
   "outputs": [],
   "source": [
    "threshold = 0.95\n",
    "fig, axs = plt.subplots(1, 3, figsize=(12, 2.5))\n",
    "axs[0].imshow(mask_a, cmap='gray')\n",
    "axs[0].set_title(\"Mask\")\n",
    "axs[1].imshow(all_pred_a, cmap='gray')\n",
    "axs[1].set_title(\"Predictions\")\n",
    "axs[2].imshow(all_pred_a > threshold, cmap='gray')\n",
    "axs[2].set_title(f'Binary Predictions')\n",
    "fig.suptitle(\"Predictions on test set a\")\n",
    "# plt.savefig(f'imgs/{CHECKPOINT_NAME}-threshold-{threshold}-test-a-compare.svg')"
   ]
  },
  {
   "attachments": {},
   "cell_type": "markdown",
   "metadata": {},
   "source": [
    "#### Test b"
   ]
  },
  {
   "cell_type": "code",
   "execution_count": null,
   "metadata": {},
   "outputs": [],
   "source": [
    "threshold = 0.95\n",
    "fig, axs = plt.subplots(1, 3, figsize=(10, 3))\n",
    "axs[0].imshow(mask_b, cmap='gray')\n",
    "axs[0].set_title(\"Mask\")\n",
    "axs[1].imshow(all_pred_b, cmap='gray')\n",
    "axs[1].set_title(\"Predictions\")\n",
    "axs[2].imshow(all_pred_b > threshold, cmap='gray')\n",
    "axs[2].set_title(f'Binary Predictions')\n",
    "fig.suptitle(\"Predictions on test set b\")\n",
    "# plt.savefig(f'imgs/{CHECKPOINT_NAME}-threshold-{threshold}-test-b-compare.svg')"
   ]
  },
  {
   "attachments": {},
   "cell_type": "markdown",
   "metadata": {},
   "source": [
    "## Submission file"
   ]
  },
  {
   "cell_type": "code",
   "execution_count": null,
   "metadata": {},
   "outputs": [],
   "source": [
    "def rle(output):\n",
    "    flat_img = np.where(output.flatten() > 0.5, 1, 0).astype(np.uint8)\n",
    "    starts = np.array((flat_img[:-1] == 0) & (flat_img[1:] == 1))\n",
    "    ends = np.array((flat_img[:-1] == 1) & (flat_img[1:] == 0))\n",
    "    starts_ix = np.where(starts)[0] + 2\n",
    "    ends_ix = np.where(ends)[0] + 2\n",
    "    lengths = ends_ix - starts_ix\n",
    "    return \" \".join(map(str, sum(zip(starts_ix, lengths), ())))"
   ]
  },
  {
   "cell_type": "code",
   "execution_count": null,
   "metadata": {},
   "outputs": [],
   "source": [
    "submission = defaultdict(list)\n",
    "\n",
    "submission[\"Id\"].append(\"a\")\n",
    "submission[\"Predicted\"].append(rle(all_pred_a))\n",
    "submission[\"Id\"].append(\"b\")\n",
    "submission[\"Predicted\"].append(rle(all_pred_b))\n",
    "\n",
    "pd.DataFrame.from_dict(submission).to_csv(f'submission/submission-{CHECKPOINT_NAME}.csv', index=False)"
   ]
  },
  {
   "cell_type": "code",
   "execution_count": null,
   "metadata": {},
   "outputs": [],
   "source": [
    "df = pd.DataFrame.from_dict(submission)\n",
    "df"
   ]
  },
  {
   "cell_type": "code",
   "execution_count": null,
   "metadata": {},
   "outputs": [],
   "source": []
  }
 ],
 "metadata": {
  "kernelspec": {
   "display_name": "base",
   "language": "python",
   "name": "python3"
  },
  "language_info": {
   "codemirror_mode": {
    "name": "ipython",
    "version": 3
   },
   "file_extension": ".py",
   "mimetype": "text/x-python",
   "name": "python",
   "nbconvert_exporter": "python",
   "pygments_lexer": "ipython3",
   "version": "3.7.12"
  },
  "orig_nbformat": 4
 },
 "nbformat": 4,
 "nbformat_minor": 2
}
