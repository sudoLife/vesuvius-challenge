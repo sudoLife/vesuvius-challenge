{
 "cells": [
  {
   "cell_type": "code",
   "execution_count": null,
   "metadata": {},
   "outputs": [],
   "source": [
    "import segmentation_models as sm\n",
    "from pipeline import Pipeline\n",
    "import tensorflow as tf\n"
   ]
  },
  {
   "cell_type": "code",
   "execution_count": null,
   "metadata": {},
   "outputs": [],
   "source": [
    "data_dir = \"/home/Admin/project/dataset/\"\n",
    "patch_size = 800  # e.g. 128x128\n",
    "downsampling = 1.0  # setting this to e.g. 0.5 means images will be loaded as 2x smaller. 1 does nothing.\n",
    "z_dim = 3  # number of slices in the z direction. max value is 65 - z_start\n",
    "z_start = 0  # offset of slices in the z direction\n",
    "batch_size = 4\n",
    "epochs = 200\n",
    "steps_per_epoch = 100\n",
    "# this means it will take val_step batches\n",
    "backbone = 'vgg16'  # 'resnet18'\n",
    "\n",
    "pipeline = Pipeline(data_dir, patch_size, downsampling, z_dim, z_start, batch_size)"
   ]
  },
  {
   "cell_type": "code",
   "execution_count": null,
   "metadata": {},
   "outputs": [],
   "source": [
    "model = sm.Unet(\n",
    "    'vgg16',\n",
    "    input_shape=pipeline.get_input_shape(),\n",
    "    encoder_weights=None,\n",
    "    classes=1\n",
    ")\n",
    "\n",
    "model.load_weights(\"chkpt/20230521-101409vgg16no_adapthist_10_volumes_from_top/checkpoint\")"
   ]
  },
  {
   "cell_type": "code",
   "execution_count": null,
   "metadata": {},
   "outputs": [],
   "source": [
    "# tf.keras.utils.plot_model(model,show_layer_names=False,expand_nested=True)"
   ]
  },
  {
   "cell_type": "code",
   "execution_count": null,
   "metadata": {},
   "outputs": [],
   "source": [
    "# Assuming you have already defined and compiled your Keras model\n",
    "\n",
    "# Get the weights and biases of each layer\n",
    "for layer in model.layers:\n",
    "    print(f\"\\n================layer: {layer.name}====================\")\n",
    "    weights = layer.get_weights()\n",
    "    if len(weights) == 1:\n",
    "        layer_weights = weights\n",
    "        print(f\"weights:{weights[0].shape}\")\n",
    "        print(f\"Weights for {layer.name}: {layer_weights}\")\n",
    "        \n",
    "    elif len(weights) == 2:\n",
    "        print(f\"weights:{weights[0].shape}, biases:{weights[1].shape}\")\n",
    "        layer_weights, layer_biases = weights\n",
    "        print(f\"Weights for {layer.name}: {layer_weights}\")\n",
    "        print(f\"Biases for {layer.name}: {layer_biases}\")\n",
    "    \n",
    "    elif len(weights) > 2:\n",
    "        print(f\"more than 2 parameters. Number of parameters:{len(weights)}\")\n",
    "         \n",
    "    else:\n",
    "        print(f\"No weights for {layer.name}\")\n",
    "\n"
   ]
  }
 ],
 "metadata": {
  "kernelspec": {
   "display_name": "base",
   "language": "python",
   "name": "python3"
  },
  "language_info": {
   "codemirror_mode": {
    "name": "ipython",
    "version": 3
   },
   "file_extension": ".py",
   "mimetype": "text/x-python",
   "name": "python",
   "nbconvert_exporter": "python",
   "pygments_lexer": "ipython3",
   "version": "3.7.12"
  },
  "orig_nbformat": 4
 },
 "nbformat": 4,
 "nbformat_minor": 2
}
