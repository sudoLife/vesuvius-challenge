{
 "cells": [
  {
   "attachments": {},
   "cell_type": "markdown",
   "id": "398aed5f",
   "metadata": {
    "papermill": {
     "duration": 0.005554,
     "end_time": "2023-03-24T16:51:36.909991",
     "exception": false,
     "start_time": "2023-03-24T16:51:36.904437",
     "status": "completed"
    },
    "tags": []
   },
   "source": [
    "# A simple, high-performance tf.data pipeline, with data augmentation\n",
    "\n",
    "This notebook demonstrates a super simple, readable, and high-performance data pipeline written in tf.data.\n",
    "\n",
    "It has the following features:\n",
    "\n",
    "- We can downscale images to save RAM\n",
    "- The data is loaded in NumPy arrays, and only a single copy of the data is kept in memory, to avoid OOM\n",
    "- We can train on as many papyruses as we want at once (we sample randomly from one to the other)\n",
    "- We can iterate over our data either randomly or iteratively (in a grid-like fashion)\n",
    "- TF-based data augmentation\n",
    "- Extremely fast!"
   ]
  },
  {
   "attachments": {},
   "cell_type": "markdown",
   "id": "ae6180fd",
   "metadata": {
    "papermill": {
     "duration": 0.004127,
     "end_time": "2023-03-24T16:51:36.918499",
     "exception": false,
     "start_time": "2023-03-24T16:51:36.914372",
     "status": "completed"
    },
    "tags": []
   },
   "source": [
    "## Config"
   ]
  },
  {
   "cell_type": "code",
   "execution_count": 2,
   "id": "f08f9f52",
   "metadata": {
    "execution": {
     "iopub.execute_input": "2023-03-24T16:51:36.929063Z",
     "iopub.status.busy": "2023-03-24T16:51:36.928504Z",
     "iopub.status.idle": "2023-03-24T16:51:45.006710Z",
     "shell.execute_reply": "2023-03-24T16:51:45.005618Z"
    },
    "papermill": {
     "duration": 8.086881,
     "end_time": "2023-03-24T16:51:45.009532",
     "exception": false,
     "start_time": "2023-03-24T16:51:36.922651",
     "status": "completed"
    },
    "tags": []
   },
   "outputs": [
    {
     "name": "stderr",
     "output_type": "stream",
     "text": [
      "2023-05-17 09:46:15.197688: I tensorflow/core/platform/cpu_feature_guard.cc:193] This TensorFlow binary is optimized with oneAPI Deep Neural Network Library (oneDNN) to use the following CPU instructions in performance-critical operations:  AVX2 AVX512F FMA\n",
      "To enable them in other operations, rebuild TensorFlow with the appropriate compiler flags.\n",
      "2023-05-17 09:46:16.220860: W tensorflow/compiler/xla/stream_executor/platform/default/dso_loader.cc:64] Could not load dynamic library 'libnvinfer.so.7'; dlerror: libnvinfer.so.7: cannot open shared object file: No such file or directory; LD_LIBRARY_PATH: /usr/local/cuda/lib64:/usr/local/nccl2/lib:/usr/local/cuda/extras/CUPTI/lib64\n",
      "2023-05-17 09:46:16.220956: W tensorflow/compiler/xla/stream_executor/platform/default/dso_loader.cc:64] Could not load dynamic library 'libnvinfer_plugin.so.7'; dlerror: libnvinfer_plugin.so.7: cannot open shared object file: No such file or directory; LD_LIBRARY_PATH: /usr/local/cuda/lib64:/usr/local/nccl2/lib:/usr/local/cuda/extras/CUPTI/lib64\n",
      "2023-05-17 09:46:16.220966: W tensorflow/compiler/tf2tensorrt/utils/py_utils.cc:38] TF-TRT Warning: Cannot dlopen some TensorRT libraries. If you would like to use Nvidia GPU with TensorRT, please make sure the missing libraries mentioned above are installed properly.\n"
     ]
    }
   ],
   "source": [
    "import tensorflow as tf\n",
    "import numpy as np\n",
    "\n",
    "import random\n",
    "import gc\n",
    "import cv2\n",
    "import time\n",
    "from tqdm import tqdm\n",
    "\n",
    "\n",
    "DATA_DIR = \"./dataset/\"\n",
    "PATCH_SIZE = 128  # e.g. 128x128\n",
    "PATCH_HALFSIZE = PATCH_SIZE // 2\n",
    "DOWNSAMPLING = 0.75  # Setting this to e.g. 0.5 means images will be loaded as 2x smaller. 1 does nothing.\n",
    "Z_DIM = 40   # Number of slices in the z direction. Max value is 65 - Z_START\n",
    "Z_START = 0  # Offset of slices in the z direction\n",
    "BATCH_SIZE = 8"
   ]
  },
  {
   "attachments": {},
   "cell_type": "markdown",
   "id": "617490aa",
   "metadata": {
    "papermill": {
     "duration": 0.004168,
     "end_time": "2023-03-24T16:51:45.018195",
     "exception": false,
     "start_time": "2023-03-24T16:51:45.014027",
     "status": "completed"
    },
    "tags": []
   },
   "source": [
    "## Load the training data in CPU RAM as NumPy arrays"
   ]
  },
  {
   "cell_type": "code",
   "execution_count": 3,
   "id": "55203125",
   "metadata": {
    "execution": {
     "iopub.execute_input": "2023-03-24T16:51:45.028534Z",
     "iopub.status.busy": "2023-03-24T16:51:45.027910Z",
     "iopub.status.idle": "2023-03-24T16:51:45.040727Z",
     "shell.execute_reply": "2023-03-24T16:51:45.039775Z"
    },
    "papermill": {
     "duration": 0.020473,
     "end_time": "2023-03-24T16:51:45.042846",
     "exception": false,
     "start_time": "2023-03-24T16:51:45.022373",
     "status": "completed"
    },
    "tags": []
   },
   "outputs": [],
   "source": [
    "def resize(img):\n",
    "    if DOWNSAMPLING != 1.:\n",
    "        size = int(img.shape[1] * DOWNSAMPLING), int(img.shape[0] * DOWNSAMPLING)\n",
    "        img = cv2.resize(img, size)\n",
    "    return img\n",
    "\n",
    "\n",
    "def load_mask(split, index):\n",
    "    img = cv2.imread(f\"{DATA_DIR}/{split}/{index}/mask.png\", 0)\n",
    "    img = resize(img)\n",
    "    return img.astype(\"bool\")\n",
    "\n",
    "\n",
    "def load_labels(split, index):\n",
    "    img = cv2.imread(f\"{DATA_DIR}/{split}/{index}/inklabels.png\", 0)\n",
    "    img = resize(img)\n",
    "    return np.expand_dims(img, axis=-1)\n",
    "\n",
    "\n",
    "def load_volume(split, index):\n",
    "    # A more memory-efficient volune loader\n",
    "    fnames = [f\"{DATA_DIR}/{split}/{index}/surface_volume/{i:02}.tif\"\n",
    "             for i in range(Z_START, Z_START + Z_DIM)]\n",
    "\n",
    "    batch_size = 8\n",
    "    fname_batches = [fnames[i :i + batch_size] for i in range(0, len(fnames), batch_size)]\n",
    "    volumes = []\n",
    "    for fname_batch in fname_batches:\n",
    "        z_slices = []\n",
    "        for fname in tqdm(fname_batch):\n",
    "            img = cv2.imread(fname, 0)\n",
    "            img = resize(img)\n",
    "            z_slices.append(img)\n",
    "        volumes.append(np.stack(z_slices, axis=-1))\n",
    "        del z_slices\n",
    "    return np.concatenate(volumes, axis=-1)\n",
    "\n",
    "\n",
    "def load_sample(split, index):\n",
    "    print(f\"Loading '{split}/{index}'...\")\n",
    "    gc.collect()\n",
    "    if split == \"train\":\n",
    "        return load_volume(split, index), load_mask(split, index), load_labels(split, index)\n",
    "    return load_volume(split, index), load_mask(split, index), None"
   ]
  },
  {
   "cell_type": "code",
   "execution_count": 4,
   "id": "f370956a",
   "metadata": {
    "execution": {
     "iopub.execute_input": "2023-03-24T16:51:45.052780Z",
     "iopub.status.busy": "2023-03-24T16:51:45.052187Z",
     "iopub.status.idle": "2023-03-24T16:58:56.781101Z",
     "shell.execute_reply": "2023-03-24T16:58:56.779838Z"
    },
    "papermill": {
     "duration": 431.73702,
     "end_time": "2023-03-24T16:58:56.783987",
     "exception": false,
     "start_time": "2023-03-24T16:51:45.046967",
     "status": "completed"
    },
    "tags": []
   },
   "outputs": [
    {
     "name": "stdout",
     "output_type": "stream",
     "text": [
      "Loading 'train/1'...\n"
     ]
    },
    {
     "name": "stderr",
     "output_type": "stream",
     "text": [
      "100%|██████████| 8/8 [00:05<00:00,  1.48it/s]\n",
      "100%|██████████| 8/8 [00:05<00:00,  1.48it/s]\n",
      "100%|██████████| 8/8 [00:05<00:00,  1.50it/s]\n",
      "100%|██████████| 8/8 [00:05<00:00,  1.48it/s]\n",
      "100%|██████████| 8/8 [00:05<00:00,  1.47it/s]\n"
     ]
    },
    {
     "name": "stdout",
     "output_type": "stream",
     "text": [
      "Loading 'train/2'...\n"
     ]
    },
    {
     "name": "stderr",
     "output_type": "stream",
     "text": [
      "100%|██████████| 8/8 [00:17<00:00,  2.22s/it]\n",
      "100%|██████████| 8/8 [00:19<00:00,  2.48s/it]\n",
      "100%|██████████| 8/8 [00:20<00:00,  2.54s/it]\n",
      "100%|██████████| 8/8 [00:21<00:00,  2.65s/it]\n",
      "100%|██████████| 8/8 [00:19<00:00,  2.49s/it]\n"
     ]
    },
    {
     "name": "stdout",
     "output_type": "stream",
     "text": [
      "Loading 'train/3'...\n"
     ]
    },
    {
     "name": "stderr",
     "output_type": "stream",
     "text": [
      "100%|██████████| 8/8 [00:05<00:00,  1.43it/s]\n",
      "100%|██████████| 8/8 [00:05<00:00,  1.34it/s]\n",
      "100%|██████████| 8/8 [00:05<00:00,  1.41it/s]\n",
      "100%|██████████| 8/8 [00:05<00:00,  1.44it/s]\n",
      "100%|██████████| 8/8 [00:05<00:00,  1.54it/s]\n"
     ]
    },
    {
     "name": "stdout",
     "output_type": "stream",
     "text": [
      "Loading complete.\n"
     ]
    }
   ],
   "source": [
    "volume_1, mask_1, labels_1 = load_sample(split=\"train\", index=1)\n",
    "volume_2, mask_2, labels_2 = load_sample(split=\"train\", index=2)\n",
    "volume_3, mask_3, labels_3 = load_sample(split=\"train\", index=3)\n",
    "gc.collect()\n",
    "print(\"Loading complete.\")"
   ]
  },
  {
   "attachments": {},
   "cell_type": "markdown",
   "id": "cc39a4d0",
   "metadata": {
    "papermill": {
     "duration": 0.015734,
     "end_time": "2023-03-24T16:58:56.816746",
     "exception": false,
     "start_time": "2023-03-24T16:58:56.801012",
     "status": "completed"
    },
    "tags": []
   },
   "source": [
    "## Define training / validation / production folds"
   ]
  },
  {
   "cell_type": "code",
   "execution_count": 5,
   "id": "fd0f0b88",
   "metadata": {
    "execution": {
     "iopub.execute_input": "2023-03-24T16:58:56.851461Z",
     "iopub.status.busy": "2023-03-24T16:58:56.850302Z",
     "iopub.status.idle": "2023-03-24T16:58:56.858558Z",
     "shell.execute_reply": "2023-03-24T16:58:56.857472Z"
    },
    "papermill": {
     "duration": 0.028443,
     "end_time": "2023-03-24T16:58:56.861294",
     "exception": false,
     "start_time": "2023-03-24T16:58:56.832851",
     "status": "completed"
    },
    "tags": []
   },
   "outputs": [],
   "source": [
    "dev_folds = {\n",
    "    \"dev_1\": {\n",
    "        \"train_volumes\": [volume_1, volume_2],\n",
    "        \"train_labels\": [labels_1, labels_2],\n",
    "        \"train_masks\": [mask_1, mask_2],\n",
    "        \"validation_volume\": volume_3,\n",
    "        \"validation_labels\": labels_3,\n",
    "        \"validation_mask\": mask_3,\n",
    "    },\n",
    "    \"dev_2\": {\n",
    "        \"train_volumes\": [volume_1, volume_3],\n",
    "        \"train_labels\": [labels_1, labels_3],\n",
    "        \"train_masks\": [mask_1, mask_3],\n",
    "        \"validation_volume\": volume_2,\n",
    "        \"validation_labels\": labels_2,\n",
    "        \"validation_mask\": mask_2,\n",
    "    },\n",
    "    \"dev_3\": {\n",
    "        \"train_volumes\": [volume_2, volume_3],\n",
    "        \"train_labels\": [labels_2, labels_3],\n",
    "        \"train_masks\": [mask_2, mask_3],\n",
    "        \"validation_volume\": volume_1,\n",
    "        \"validation_labels\": labels_1,\n",
    "        \"validation_mask\": mask_1,\n",
    "    }\n",
    "}\n",
    "\n",
    "# prod_data  = {\n",
    "#     \"train_volumes\": [volume_1, volume_2, volume_3],\n",
    "#     \"train_labels\": [labels_1, labels_2, labels_3],\n",
    "#     \"train_masks\": [mask_1, mask_2, mask_3],\n",
    "# }"
   ]
  },
  {
   "attachments": {},
   "cell_type": "markdown",
   "id": "447bf2bb",
   "metadata": {
    "papermill": {
     "duration": 0.016277,
     "end_time": "2023-03-24T16:58:56.898233",
     "exception": false,
     "start_time": "2023-03-24T16:58:56.881956",
     "status": "completed"
    },
    "tags": []
   },
   "source": [
    "## Define data augmentation pipeline\n",
    "\n",
    "Be mindful that any geometric transformation on the input patches should be replicated on the label patches."
   ]
  },
  {
   "cell_type": "code",
   "execution_count": 6,
   "id": "6977b9cf",
   "metadata": {
    "execution": {
     "iopub.execute_input": "2023-03-24T16:58:56.931572Z",
     "iopub.status.busy": "2023-03-24T16:58:56.931257Z",
     "iopub.status.idle": "2023-03-24T16:58:56.939914Z",
     "shell.execute_reply": "2023-03-24T16:58:56.938983Z"
    },
    "papermill": {
     "duration": 0.027895,
     "end_time": "2023-03-24T16:58:56.942056",
     "exception": false,
     "start_time": "2023-03-24T16:58:56.914161",
     "status": "completed"
    },
    "tags": []
   },
   "outputs": [],
   "source": [
    "@tf.function\n",
    "def train_augment_fn(patch, labels):\n",
    "    patch = tf.image.random_flip_left_right(patch, seed=1337)\n",
    "    labels = tf.image.random_flip_left_right(labels, seed=1337)\n",
    "    \n",
    "    patch = tf.image.random_flip_up_down(patch, seed=42)\n",
    "    labels = tf.image.random_flip_up_down(labels, seed=42)\n",
    "    return patch, labels"
   ]
  },
  {
   "attachments": {},
   "cell_type": "markdown",
   "id": "7a60e79e",
   "metadata": {
    "papermill": {
     "duration": 0.016501,
     "end_time": "2023-03-24T16:58:56.974553",
     "exception": false,
     "start_time": "2023-03-24T16:58:56.958052",
     "status": "completed"
    },
    "tags": []
   },
   "source": [
    "## Create training & validation datasets that yield patches and their labels\n",
    "\n",
    "Let's define some utilities for training and validation datasets. It's all super simple, just very short functions composed together.\n",
    "\n",
    "We have two ways to iterate over the data:\n",
    "\n",
    "- **Randomly**: We sample random patches within one of multiple volumes. This is what we use for our training data.\n",
    "- **Iteratively**: We sample patches in a deterministic grid-like pattern that provides us full coverage of the masked area of a given volume. This is what we use for our validation data and our test (production) data."
   ]
  },
  {
   "cell_type": "code",
   "execution_count": 7,
   "id": "49c8075e",
   "metadata": {
    "execution": {
     "iopub.execute_input": "2023-03-24T16:58:57.007608Z",
     "iopub.status.busy": "2023-03-24T16:58:57.007296Z",
     "iopub.status.idle": "2023-03-24T16:58:57.022241Z",
     "shell.execute_reply": "2023-03-24T16:58:57.021098Z"
    },
    "papermill": {
     "duration": 0.03404,
     "end_time": "2023-03-24T16:58:57.024559",
     "exception": false,
     "start_time": "2023-03-24T16:58:56.990519",
     "status": "completed"
    },
    "tags": []
   },
   "outputs": [],
   "source": [
    "def sample_random_location(shape):\n",
    "    x = random.randint(PATCH_HALFSIZE, shape[0] - PATCH_HALFSIZE - 1)\n",
    "    y = random.randint(PATCH_HALFSIZE, shape[1] - PATCH_HALFSIZE - 1)\n",
    "    return (x, y)\n",
    "\n",
    "\n",
    "def list_all_locations(mask, stride=PATCH_HALFSIZE):\n",
    "    locations = []\n",
    "    for x in range(PATCH_HALFSIZE, mask.shape[0] - PATCH_HALFSIZE, stride):\n",
    "        for y in range(PATCH_HALFSIZE, mask.shape[1] - PATCH_HALFSIZE, stride):\n",
    "            if mask[x, y]:\n",
    "                locations.append((x, y))\n",
    "    return locations\n",
    "\n",
    "\n",
    "def extract_patch(location, volume):\n",
    "    x = location[0]\n",
    "    y = location[1]\n",
    "    patch = volume[x - PATCH_HALFSIZE :x + PATCH_HALFSIZE,\n",
    "                   y - PATCH_HALFSIZE :y + PATCH_HALFSIZE, :]\n",
    "    return patch.astype(\"float32\") / 255.\n",
    "\n",
    "\n",
    "def extract_labels(location, labels):\n",
    "    x = location[0]\n",
    "    y = location[1]\n",
    "    \n",
    "    label = labels[x - PATCH_HALFSIZE :x + PATCH_HALFSIZE,\n",
    "                   y - PATCH_HALFSIZE :y + PATCH_HALFSIZE, :]\n",
    "    return label.astype(\"float32\") / 255.\n",
    "\n",
    "\n",
    "def make_random_data_generator(volume, mask, labels):\n",
    "    def data_generator():\n",
    "        while True:\n",
    "            loc = sample_random_location(mask.shape)\n",
    "            if mask[loc[0], loc[1]]:\n",
    "                patch = extract_patch(loc, volume)\n",
    "                label = extract_labels(loc, labels)\n",
    "                yield patch, label\n",
    "    return data_generator\n",
    "\n",
    "\n",
    "def make_iterated_data_generator(volume, mask, labels=None):\n",
    "    locations = list_all_locations(mask)\n",
    "    def data_generator():\n",
    "        for loc in locations:\n",
    "            patch = extract_patch(loc, volume)\n",
    "            if labels is None:\n",
    "                yield patch\n",
    "            else:\n",
    "                label = extract_labels(loc, labels)\n",
    "                yield patch, label\n",
    "    return data_generator\n",
    "    \n",
    "\n",
    "def make_tf_dataset(gen_fn, labeled=True):\n",
    "    if labeled:\n",
    "        output_signature = (\n",
    "            tf.TensorSpec(shape=(PATCH_SIZE, PATCH_SIZE, Z_DIM), dtype=tf.float32),\n",
    "            tf.TensorSpec(shape=(PATCH_SIZE, PATCH_SIZE, 1), dtype=tf.float32),\n",
    "        )\n",
    "    else:\n",
    "        output_signature = tf.TensorSpec(shape=(PATCH_SIZE, PATCH_SIZE, Z_DIM), dtype=tf.float32)\n",
    "    ds = tf.data.Dataset.from_generator(\n",
    "        gen_fn,\n",
    "        output_signature=output_signature,\n",
    "    )\n",
    "    return ds.prefetch(tf.data.AUTOTUNE).batch(BATCH_SIZE)"
   ]
  },
  {
   "attachments": {},
   "cell_type": "markdown",
   "id": "0327f209",
   "metadata": {
    "papermill": {
     "duration": 0.015819,
     "end_time": "2023-03-24T16:58:57.056528",
     "exception": false,
     "start_time": "2023-03-24T16:58:57.040709",
     "status": "completed"
    },
    "tags": []
   },
   "source": [
    "Next, let's prepare a utility that turns a fold's metadata into a training dataset and a validation dataset."
   ]
  },
  {
   "cell_type": "code",
   "execution_count": 8,
   "id": "0f09e589",
   "metadata": {
    "execution": {
     "iopub.execute_input": "2023-03-24T16:58:57.090086Z",
     "iopub.status.busy": "2023-03-24T16:58:57.089799Z",
     "iopub.status.idle": "2023-03-24T16:58:57.097217Z",
     "shell.execute_reply": "2023-03-24T16:58:57.096166Z"
    },
    "papermill": {
     "duration": 0.0268,
     "end_time": "2023-03-24T16:58:57.099324",
     "exception": false,
     "start_time": "2023-03-24T16:58:57.072524",
     "status": "completed"
    },
    "tags": []
   },
   "outputs": [],
   "source": [
    "def make_datasets_for_fold(fold, train_augment_fn=None):\n",
    "    train_volumes = fold[\"train_volumes\"]\n",
    "    train_masks = fold[\"train_masks\"]\n",
    "    train_labels = fold[\"train_labels\"]\n",
    "    \n",
    "    include_validation = \"validation_volume\" in fold\n",
    "    if include_validation:\n",
    "        validation_volume = fold[\"validation_volume\"]\n",
    "        validation_mask = fold[\"validation_mask\"]\n",
    "        validation_labels = fold[\"validation_labels\"]\n",
    "\n",
    "    all_train_ds = []\n",
    "    for volume, mask, labels in zip(train_volumes, train_masks, train_labels):\n",
    "        train_ds = make_tf_dataset(\n",
    "            make_random_data_generator(volume, mask, labels),\n",
    "            labeled=True,\n",
    "        )\n",
    "        all_train_ds.append(train_ds)\n",
    "    train_ds = tf.data.Dataset.sample_from_datasets(all_train_ds)\n",
    "\n",
    "    if train_augment_fn:\n",
    "        train_ds = train_ds.map(train_augment_fn, num_parallel_calls=tf.data.AUTOTUNE)\n",
    "    train_ds = train_ds.prefetch(tf.data.AUTOTUNE)\n",
    "\n",
    "    if not include_validation:\n",
    "        return train_ds\n",
    "\n",
    "    val_ds = make_tf_dataset(\n",
    "        make_iterated_data_generator(validation_volume, validation_mask, validation_labels),\n",
    "        labeled=True,\n",
    "    )\n",
    "    return train_ds, val_ds"
   ]
  },
  {
   "attachments": {},
   "cell_type": "markdown",
   "id": "398660ed",
   "metadata": {
    "papermill": {
     "duration": 0.015618,
     "end_time": "2023-03-24T16:58:57.131166",
     "exception": false,
     "start_time": "2023-03-24T16:58:57.115548",
     "status": "completed"
    },
    "tags": []
   },
   "source": [
    "## Check dataset output shapes"
   ]
  },
  {
   "cell_type": "code",
   "execution_count": 9,
   "id": "2bb69889",
   "metadata": {
    "execution": {
     "iopub.execute_input": "2023-03-24T16:58:57.164503Z",
     "iopub.status.busy": "2023-03-24T16:58:57.163668Z",
     "iopub.status.idle": "2023-03-24T16:59:00.770602Z",
     "shell.execute_reply": "2023-03-24T16:59:00.768690Z"
    },
    "papermill": {
     "duration": 3.626982,
     "end_time": "2023-03-24T16:59:00.773642",
     "exception": false,
     "start_time": "2023-03-24T16:58:57.146660",
     "status": "completed"
    },
    "tags": []
   },
   "outputs": [],
   "source": [
    "# # We use the first fold datasets for this quick check\n",
    "# train_ds, val_ds = make_datasets_for_fold(dev_folds[\"dev_1\"])\n",
    "\n",
    "# for patch, label in train_ds.take(1):\n",
    "#     print(f\"Train patch shape: {patch.shape}\")\n",
    "#     print(f\"Train label shape: {label.shape}\")\n",
    "# print(\"-\")\n",
    "# for patch, label in val_ds.take(1):\n",
    "#     print(f\"Val patch shape: {patch.shape}\")\n",
    "#     print(f\"Val label shape: {label.shape}\")"
   ]
  },
  {
   "attachments": {},
   "cell_type": "markdown",
   "id": "18bf0f27",
   "metadata": {
    "papermill": {
     "duration": 0.015779,
     "end_time": "2023-03-24T16:59:00.806114",
     "exception": false,
     "start_time": "2023-03-24T16:59:00.790335",
     "status": "completed"
    },
    "tags": []
   },
   "source": [
    "## Check dataset throughput\n",
    "\n",
    "It's always a good idea to check that your data pipeline is efficient. You don't want to be CPU-bound at training time!\n",
    "\n",
    "In this case, our datasets are *insanely* fast because they're compiled to natively parallel C++, rather than using multiprocessing in the Python runtime."
   ]
  },
  {
   "cell_type": "code",
   "execution_count": 10,
   "id": "b4d6b2d4",
   "metadata": {
    "execution": {
     "iopub.execute_input": "2023-03-24T16:59:00.839655Z",
     "iopub.status.busy": "2023-03-24T16:59:00.839333Z",
     "iopub.status.idle": "2023-03-24T16:59:02.896504Z",
     "shell.execute_reply": "2023-03-24T16:59:02.894916Z"
    },
    "papermill": {
     "duration": 2.077315,
     "end_time": "2023-03-24T16:59:02.899631",
     "exception": false,
     "start_time": "2023-03-24T16:59:00.822316",
     "status": "completed"
    },
    "tags": []
   },
   "outputs": [],
   "source": [
    "def check_throughout(ds):\n",
    "    n = 100\n",
    "    for i, _ in enumerate(ds.take(n + 1)):\n",
    "        if i == 1:  # Don't include dataset initialization time\n",
    "            t0 = time.time()\n",
    "    time_per_batch = (time.time() - t0) / n\n",
    "    print(f\"Time per batch: {time_per_batch:.4f}s\")\n",
    "    print(f\"Time per sample: {time_per_batch / BATCH_SIZE:.4f}s\")\n",
    "\n",
    "\n",
    "# train_ds, val_ds = make_datasets_for_fold(dev_folds[\"dev_1\"])\n",
    "\n",
    "# check_throughout(train_ds)"
   ]
  },
  {
   "attachments": {},
   "cell_type": "markdown",
   "id": "c8f2201d",
   "metadata": {
    "papermill": {
     "duration": 0.016169,
     "end_time": "2023-03-24T16:59:02.932883",
     "exception": false,
     "start_time": "2023-03-24T16:59:02.916714",
     "status": "completed"
    },
    "tags": []
   },
   "source": [
    "With data augmentation:"
   ]
  },
  {
   "cell_type": "code",
   "execution_count": 11,
   "id": "e8af0d90",
   "metadata": {
    "execution": {
     "iopub.execute_input": "2023-03-24T16:59:02.966509Z",
     "iopub.status.busy": "2023-03-24T16:59:02.965643Z",
     "iopub.status.idle": "2023-03-24T16:59:11.123601Z",
     "shell.execute_reply": "2023-03-24T16:59:11.121245Z"
    },
    "papermill": {
     "duration": 8.178014,
     "end_time": "2023-03-24T16:59:11.126684",
     "exception": false,
     "start_time": "2023-03-24T16:59:02.948670",
     "status": "completed"
    },
    "tags": []
   },
   "outputs": [],
   "source": [
    "# train_ds, val_ds = make_datasets_for_fold(dev_folds[\"dev_1\"], train_augment_fn=train_augment_fn)\n",
    "\n",
    "# check_throughout(train_ds)"
   ]
  },
  {
   "attachments": {},
   "cell_type": "markdown",
   "id": "a40909e8",
   "metadata": {
    "papermill": {
     "duration": 0.016065,
     "end_time": "2023-03-24T16:59:11.159235",
     "exception": false,
     "start_time": "2023-03-24T16:59:11.143170",
     "status": "completed"
    },
    "tags": []
   },
   "source": [
    "## Usage examples\n",
    "\n",
    "Note that the training datasets are infinitely streaming -- iterating over them will just yield new random patches forever.\n",
    "When using these datasets in `fit()`, make sure to provide the `steps_per_epoch=N` argument to draw N batches per epoch."
   ]
  },
  {
   "cell_type": "code",
   "execution_count": 12,
   "id": "f42e0326",
   "metadata": {
    "execution": {
     "iopub.execute_input": "2023-03-24T16:59:11.192408Z",
     "iopub.status.busy": "2023-03-24T16:59:11.192093Z",
     "iopub.status.idle": "2023-03-24T16:59:43.358632Z",
     "shell.execute_reply": "2023-03-24T16:59:43.357140Z"
    },
    "papermill": {
     "duration": 32.18572,
     "end_time": "2023-03-24T16:59:43.360921",
     "exception": false,
     "start_time": "2023-03-24T16:59:11.175201",
     "status": "completed"
    },
    "tags": []
   },
   "outputs": [],
   "source": [
    "# # This is how you create the datasets for a given fold:\n",
    "# train_ds, val_ds = make_datasets_for_fold(dev_folds[\"dev_2\"], train_augment_fn=train_augment_fn)\n",
    "\n",
    "# # This is how you create your production training dataset:\n",
    "# train_ds = make_datasets_for_fold(prod_data, train_augment_fn=train_augment_fn)\n",
    "\n",
    "# # This is how you create your production test dataset:\n",
    "# test_volume, test_mask, _ = load_sample(split=\"test\", index=\"a\")\n",
    "# test_ds = make_tf_dataset(\n",
    "#     make_iterated_data_generator(test_volume, test_mask),\n",
    "#     labeled=False,\n",
    "# )\n",
    "\n",
    "# # This is how you iterate over the production test dataset\n",
    "# # and retrieve the locations (x, y) corresponding to the center pixel\n",
    "# # of the current patch:\n",
    "# locations_ds = tf.data.Dataset.from_tensor_slices(\n",
    "#     list_all_locations(test_mask, stride=PATCH_SIZE)\n",
    "# ).batch(BATCH_SIZE)\n",
    "# for loc_batch, patch_batch in tqdm(zip(locations_ds, test_ds)):\n",
    "#     index = 3\n",
    "#     x, y = loc_batch[index]\n",
    "#     print(f\"Patch patch_batch[{index}] is for location ({x}, {y})\")\n",
    "#     break"
   ]
  },
  {
   "cell_type": "code",
   "execution_count": 13,
   "id": "19fbb03f",
   "metadata": {},
   "outputs": [
    {
     "name": "stdout",
     "output_type": "stream",
     "text": [
      "Segmentation Models: using `keras` framework.\n"
     ]
    }
   ],
   "source": [
    "# now it's time for a model or sth\n",
    "import segmentation_models as sm"
   ]
  },
  {
   "cell_type": "code",
   "execution_count": 14,
   "id": "4c7e8ff1",
   "metadata": {},
   "outputs": [
    {
     "name": "stderr",
     "output_type": "stream",
     "text": [
      "2023-05-17 09:49:11.459850: I tensorflow/compiler/xla/stream_executor/cuda/cuda_gpu_executor.cc:981] successful NUMA node read from SysFS had negative value (-1), but there must be at least one NUMA node, so returning NUMA node zero\n",
      "2023-05-17 09:49:11.568471: I tensorflow/compiler/xla/stream_executor/cuda/cuda_gpu_executor.cc:981] successful NUMA node read from SysFS had negative value (-1), but there must be at least one NUMA node, so returning NUMA node zero\n",
      "2023-05-17 09:49:11.568945: I tensorflow/compiler/xla/stream_executor/cuda/cuda_gpu_executor.cc:981] successful NUMA node read from SysFS had negative value (-1), but there must be at least one NUMA node, so returning NUMA node zero\n",
      "2023-05-17 09:49:11.574388: I tensorflow/core/platform/cpu_feature_guard.cc:193] This TensorFlow binary is optimized with oneAPI Deep Neural Network Library (oneDNN) to use the following CPU instructions in performance-critical operations:  AVX2 AVX512F FMA\n",
      "To enable them in other operations, rebuild TensorFlow with the appropriate compiler flags.\n",
      "2023-05-17 09:49:11.576419: I tensorflow/compiler/xla/stream_executor/cuda/cuda_gpu_executor.cc:981] successful NUMA node read from SysFS had negative value (-1), but there must be at least one NUMA node, so returning NUMA node zero\n",
      "2023-05-17 09:49:11.576658: I tensorflow/compiler/xla/stream_executor/cuda/cuda_gpu_executor.cc:981] successful NUMA node read from SysFS had negative value (-1), but there must be at least one NUMA node, so returning NUMA node zero\n",
      "2023-05-17 09:49:11.576833: I tensorflow/compiler/xla/stream_executor/cuda/cuda_gpu_executor.cc:981] successful NUMA node read from SysFS had negative value (-1), but there must be at least one NUMA node, so returning NUMA node zero\n",
      "2023-05-17 09:49:13.202545: I tensorflow/compiler/xla/stream_executor/cuda/cuda_gpu_executor.cc:981] successful NUMA node read from SysFS had negative value (-1), but there must be at least one NUMA node, so returning NUMA node zero\n",
      "2023-05-17 09:49:13.203834: I tensorflow/compiler/xla/stream_executor/cuda/cuda_gpu_executor.cc:981] successful NUMA node read from SysFS had negative value (-1), but there must be at least one NUMA node, so returning NUMA node zero\n",
      "2023-05-17 09:49:13.204049: I tensorflow/compiler/xla/stream_executor/cuda/cuda_gpu_executor.cc:981] successful NUMA node read from SysFS had negative value (-1), but there must be at least one NUMA node, so returning NUMA node zero\n",
      "2023-05-17 09:49:13.205188: I tensorflow/core/common_runtime/gpu/gpu_device.cc:1613] Created device /job:localhost/replica:0/task:0/device:GPU:0 with 15389 MB memory:  -> device: 0, name: Tesla P100-PCIE-16GB, pci bus id: 0000:00:04.0, compute capability: 6.0\n"
     ]
    }
   ],
   "source": [
    "# If you need to specify non-standard input shape\n",
    "model = sm.Unet(\n",
    "    'resnet50', \n",
    "    input_shape=(PATCH_SIZE, PATCH_SIZE, Z_DIM), \n",
    "    encoder_weights=None,\n",
    "    classes=1\n",
    ")\n",
    "# model.compile(optimizer='adam', loss=sm.losses.bce_jaccard_loss, metrics=[sm.metrics.iou_score])"
   ]
  },
  {
   "cell_type": "code",
   "execution_count": 15,
   "id": "9df819d6",
   "metadata": {},
   "outputs": [
    {
     "data": {
      "text/plain": [
       "403"
      ]
     },
     "execution_count": 15,
     "metadata": {},
     "output_type": "execute_result"
    }
   ],
   "source": [
    "_, val_ds =  make_datasets_for_fold(dev_folds[\"dev_1\"], train_augment_fn=train_augment_fn)\n",
    "# test_volume, test_mask, _ = load_sample(split=\"test\", index=\"a\")\n",
    "# test_ds = make_tf_dataset(\n",
    "#     make_iterated_data_generator(test_volume, test_mask),\n",
    "#     labeled=True,\n",
    "# )\n",
    "gc.collect()"
   ]
  },
  {
   "cell_type": "code",
   "execution_count": 16,
   "id": "ef4dbdae",
   "metadata": {},
   "outputs": [
    {
     "data": {
      "text/plain": [
       "<tensorflow.python.checkpoint.checkpoint.CheckpointLoadStatus at 0x7f72028308d0>"
      ]
     },
     "execution_count": 16,
     "metadata": {},
     "output_type": "execute_result"
    }
   ],
   "source": [
    "# model.fit(train_ds, batch_size=BATCH_SIZE, epochs=50, steps_per_epoch=50, validation_data=val_ds, validation_steps=50)\n",
    "# model = tf.keras.models.load_model('naive_unet_with_resnet50', custom_objects=None)\n",
    "model.load_weights('naive_unet_with_resnet50_weights')"
   ]
  },
  {
   "cell_type": "code",
   "execution_count": 17,
   "id": "24311cb3",
   "metadata": {},
   "outputs": [],
   "source": [
    "import matplotlib.pyplot as plt\n",
    "batch = val_ds.take(1)"
   ]
  },
  {
   "cell_type": "code",
   "execution_count": 22,
   "id": "1131f9cb",
   "metadata": {},
   "outputs": [
    {
     "name": "stdout",
     "output_type": "stream",
     "text": [
      "(8, 128, 128, 40)\n",
      "(8, 128, 128, 1)\n"
     ]
    }
   ],
   "source": [
    "# res = model.predict(patch)\n",
    "for x, y in batch:\n",
    "    print(x.shape)\n",
    "print(y.shape)"
   ]
  },
  {
   "cell_type": "code",
   "execution_count": 19,
   "id": "19c64c4b",
   "metadata": {},
   "outputs": [
    {
     "ename": "NameError",
     "evalue": "name 'res' is not defined",
     "output_type": "error",
     "traceback": [
      "\u001b[0;31m---------------------------------------------------------------------------\u001b[0m",
      "\u001b[0;31mNameError\u001b[0m                                 Traceback (most recent call last)",
      "\u001b[0;32m/var/tmp/ipykernel_18017/2897322925.py\u001b[0m in \u001b[0;36m<module>\u001b[0;34m\u001b[0m\n\u001b[1;32m      1\u001b[0m \u001b[0mfig\u001b[0m\u001b[0;34m,\u001b[0m \u001b[0maxes\u001b[0m \u001b[0;34m=\u001b[0m \u001b[0mplt\u001b[0m\u001b[0;34m.\u001b[0m\u001b[0msubplots\u001b[0m\u001b[0;34m(\u001b[0m\u001b[0;36m1\u001b[0m\u001b[0;34m,\u001b[0m \u001b[0;36m8\u001b[0m\u001b[0;34m)\u001b[0m\u001b[0;34m\u001b[0m\u001b[0;34m\u001b[0m\u001b[0m\n\u001b[1;32m      2\u001b[0m \u001b[0;34m\u001b[0m\u001b[0m\n\u001b[0;32m----> 3\u001b[0;31m \u001b[0;32mfor\u001b[0m \u001b[0mr\u001b[0m \u001b[0;32min\u001b[0m \u001b[0mrange\u001b[0m\u001b[0;34m(\u001b[0m\u001b[0mres\u001b[0m\u001b[0;34m.\u001b[0m\u001b[0mshape\u001b[0m\u001b[0;34m[\u001b[0m\u001b[0;36m0\u001b[0m\u001b[0;34m]\u001b[0m\u001b[0;34m)\u001b[0m\u001b[0;34m:\u001b[0m\u001b[0;34m\u001b[0m\u001b[0;34m\u001b[0m\u001b[0m\n\u001b[0m\u001b[1;32m      4\u001b[0m     \u001b[0maxes\u001b[0m\u001b[0;34m[\u001b[0m\u001b[0mr\u001b[0m\u001b[0;34m]\u001b[0m\u001b[0;34m.\u001b[0m\u001b[0mimshow\u001b[0m\u001b[0;34m(\u001b[0m\u001b[0mres\u001b[0m\u001b[0;34m[\u001b[0m\u001b[0mr\u001b[0m\u001b[0;34m]\u001b[0m\u001b[0;34m,\u001b[0m \u001b[0mcmap\u001b[0m\u001b[0;34m=\u001b[0m\u001b[0;34m'gray'\u001b[0m\u001b[0;34m)\u001b[0m\u001b[0;34m\u001b[0m\u001b[0;34m\u001b[0m\u001b[0m\n",
      "\u001b[0;31mNameError\u001b[0m: name 'res' is not defined"
     ]
    },
    {
     "data": {
      "image/png": "[encoded data removed]",
      "text/plain": [
       "<Figure size 640x480 with 8 Axes>"
      ]
     },
     "metadata": {},
     "output_type": "display_data"
    }
   ],
   "source": [
    "fig, axes = plt.subplots(1, 8)\n",
    "\n",
    "for r in range(res.shape[0]):\n",
    "    axes[r].imshow(res[r], cmap='gray')"
   ]
  }
 ],
 "metadata": {
  "kernelspec": {
   "display_name": "base",
   "language": "python",
   "name": "python3"
  },
  "language_info": {
   "codemirror_mode": {
    "name": "ipython",
    "version": 3
   },
   "file_extension": ".py",
   "mimetype": "text/x-python",
   "name": "python",
   "nbconvert_exporter": "python",
   "pygments_lexer": "ipython3",
   "version": "3.7.12"
  },
  "papermill": {
   "default_parameters": {},
   "duration": 499.111834,
   "end_time": "2023-03-24T16:59:46.541713",
   "environment_variables": {},
   "exception": null,
   "input_path": "__notebook__.ipynb",
   "output_path": "__notebook__.ipynb",
   "parameters": {},
   "start_time": "2023-03-24T16:51:27.429879",
   "version": "2.4.0"
  },
  "vscode": {
   "interpreter": {
    "hash": "d4d1e4263499bec80672ea0156c357c1ee493ec2b1c70f0acce89fc37c4a6abe"
   }
  }
 },
 "nbformat": 4,
 "nbformat_minor": 5
}
