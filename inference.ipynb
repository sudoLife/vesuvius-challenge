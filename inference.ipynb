{
 "cells": [
  {
   "cell_type": "code",
   "execution_count": null,
   "metadata": {},
   "outputs": [],
   "source": [
    "import segmentation_models as sm\n",
    "from pipeline import Pipeline\n",
    "import gc\n",
    "import matplotlib.pyplot as plt\n",
    "import numpy as np\n",
    "from tqdm import tqdm"
   ]
  },
  {
   "cell_type": "code",
   "execution_count": null,
   "metadata": {},
   "outputs": [],
   "source": [
    "data_dir = \"./dataset/\"\n",
    "patch_size = 128  # e.g. 128x128\n",
    "downsampling = 0.75  # setting this to e.g. 0.5 means images will be loaded as 2x smaller. 1 does nothing.\n",
    "z_dim = 40   # number of slices in the z direction. max value is 65 - z_start\n",
    "z_start = 0  # offset of slices in the z direction\n",
    "batch_size = 16\n",
    "epochs = 100\n",
    "steps_per_epoch = 50\n",
    "val_step = 50\n",
    "\n",
    "pipeline = Pipeline(data_dir, patch_size, downsampling, z_dim, z_start, batch_size)\n",
    "volume_3, mask_3, labels_3 = pipeline.load_sample(split=\"train\", index=3)\n",
    "\n",
    "gc.collect()\n",
    "print(\"Loading complete.\")"
   ]
  },
  {
   "cell_type": "code",
   "execution_count": null,
   "metadata": {},
   "outputs": [],
   "source": [
    "# for now let's only\n",
    "# train_ds, val_ds = pipeline.make_datasets_for_fold(dev_folds['dev_1'])"
   ]
  },
  {
   "cell_type": "code",
   "execution_count": null,
   "metadata": {},
   "outputs": [],
   "source": [
    "model = sm.Unet(\n",
    "    'resnet50',\n",
    "    input_shape=pipeline.get_input_shape(),\n",
    "    encoder_weights=None,\n",
    "    classes=1\n",
    ")\n",
    "model.load_weights('chkpt/checkpoint')"
   ]
  },
  {
   "cell_type": "code",
   "execution_count": null,
   "metadata": {},
   "outputs": [],
   "source": [
    "val_ds = pipeline.make_iterated_data_generator(volume_3, mask_3, labels_3)\n",
    "threshold = 0.5\n",
    "\n",
    "fig, ax = plt.subplots(1, 2)\n",
    "for i, val in enumerate(val_ds()):\n",
    "    patch, label = val\n",
    "    pred = model.predict(np.expand_dims(patch, 0))[0]\n",
    "    ax[0].imshow((pred > threshold).astype(float), cmap='gray')\n",
    "    ax[0].set_title(\"Prediction\")\n",
    "    ax[1].imshow(label, cmap='gray')\n",
    "    ax[1].set_title(\"Label\")\n",
    "    fig.savefig(f'predictions/{i}.png')\n"
   ]
  },
  {
   "cell_type": "code",
   "execution_count": null,
   "metadata": {},
   "outputs": [],
   "source": []
  }
 ],
 "metadata": {
  "kernelspec": {
   "display_name": "base",
   "language": "python",
   "name": "python3"
  },
  "language_info": {
   "codemirror_mode": {
    "name": "ipython",
    "version": 3
   },
   "file_extension": ".py",
   "mimetype": "text/x-python",
   "name": "python",
   "nbconvert_exporter": "python",
   "pygments_lexer": "ipython3",
   "version": "3.7.12"
  },
  "orig_nbformat": 4
 },
 "nbformat": 4,
 "nbformat_minor": 2
}
